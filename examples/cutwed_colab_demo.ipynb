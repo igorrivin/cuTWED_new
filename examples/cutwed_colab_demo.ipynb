{
 "cells": [
  {
   "cell_type": "markdown",
   "metadata": {},
   "source": [
    "# cuTWED Demo Notebook\n",
    "\n",
    "This notebook demonstrates how to use cuTWED with different backends in Google Colab."
   ]
  },
  {
   "cell_type": "markdown",
   "metadata": {},
   "source": [
    "## Setup\n",
    "\n",
    "First, let's check if a GPU is available in this Colab environment."
   ]
  },
  {
   "cell_type": "code",
   "execution_count": null,
   "metadata": {},
   "outputs": [],
   "source": [
    "!nvidia-smi"
   ]
  },
  {
   "cell_type": "markdown",
   "metadata": {},
   "source": [
    "Now, let's clone the repository and build the library."
   ]
  },
  {
   "cell_type": "code",
   "execution_count": null,
   "metadata": {},
   "outputs": [],
   "source": [
    "!git clone https://github.com/garrettwrong/cuTWED.git\n",
    "%cd cuTWED/refactored"
   ]
  },
  {
   "cell_type": "markdown",
   "metadata": {},
   "source": [
    "Install the necessary dependencies."
   ]
  },
  {
   "cell_type": "code",
   "execution_count": null,
   "metadata": {},
   "outputs": [],
   "source": [
    "!apt-get update && apt-get install -y cmake ninja-build\n",
    "!pip install numpy matplotlib pytest torch jax jaxlib\n",
    "!pip install cupy-cuda11x  # Adjust based on the CUDA version in your Colab instance"
   ]
  },
  {
   "cell_type": "markdown",
   "metadata": {},
   "source": [
    "Build and install the library."
   ]
  },
  {
   "cell_type": "code",
   "execution_count": null,
   "metadata": {},
   "outputs": [],
   "source": [
    "!mkdir -p build && cd build && cmake .. && make -j && make install\n",
    "!cd build && make python_package && make python_install"
   ]
  },
  {
   "cell_type": "markdown",
   "metadata": {},
   "source": [
    "Set the library path."
   ]
  },
  {
   "cell_type": "code",
   "execution_count": null,
   "metadata": {},
   "outputs": [],
   "source": [
    "import os\n",
    "os.environ['LD_LIBRARY_PATH'] = '/usr/local/lib:' + os.environ.get('LD_LIBRARY_PATH', '')"
   ]
  },
  {
   "cell_type": "markdown",
   "metadata": {},
   "source": [
    "## Basic Usage\n",
    "\n",
    "Let's import the library and check available backends."
   ]
  },
  {
   "cell_type": "code",
   "execution_count": null,
   "metadata": {},
   "outputs": [],
   "source": [
    "import numpy as np\n",
    "import matplotlib.pyplot as plt\n",
    "import time\n",
    "from cutwed import twed, twed_batch, set_backend, get_backend_name, get_available_backends\n",
    "\n",
    "# Check available backends\n",
    "print(f\"Available backends: {get_available_backends()}\")\n",
    "print(f\"Current backend: {get_backend_name()}\")"
   ]
  },
  {
   "cell_type": "markdown",
   "metadata": {},
   "source": [
    "### Simple Example\n",
    "\n",
    "Let's create two simple time series and compute the TWED distance between them."
   ]
  },
  {
   "cell_type": "code",
   "execution_count": null,
   "metadata": {},
   "outputs": [],
   "source": [
    "# Create simple time series\n",
    "A = np.sin(np.linspace(0, 2*np.pi, 100)) + np.random.randn(100) * 0.1\n",
    "TA = np.arange(100)\n",
    "B = np.sin(np.linspace(0, 2*np.pi, 80)) + np.random.randn(80) * 0.1\n",
    "TB = np.arange(80)\n",
    "\n",
    "# Parameters for TWED\n",
    "nu = 1.0\n",
    "lamb = 1.0\n",
    "degree = 2\n",
    "\n",
    "# Plot the time series\n",
    "plt.figure(figsize=(10, 4))\n",
    "plt.plot(TA, A, label='Time Series A')\n",
    "plt.plot(TB, B, label='Time Series B')\n",
    "plt.legend()\n",
    "plt.title('Time Series')\n",
    "plt.grid(True)\n",
    "plt.show()"
   ]
  },
  {
   "cell_type": "markdown",
   "metadata": {},
   "source": [
    "### Compare Backends\n",
    "\n",
    "Let's compute the TWED distance using different backends and compare the results and performance."
   ]
  },
  {
   "cell_type": "code",
   "execution_count": null,
   "metadata": {},
   "outputs": [],
   "source": [
    "backends = get_available_backends()\n",
    "results = {}\n",
    "\n",
    "for backend in backends:\n",
    "    print(f\"Using {backend} backend...\")\n",
    "    start_time = time.time()\n",
    "    distance = twed(A, TA, B, TB, nu, lamb, degree, backend=backend)\n",
    "    elapsed = time.time() - start_time\n",
    "    results[backend] = {'distance': distance, 'time': elapsed}\n",
    "    print(f\"  Distance: {distance:.6f}\")\n",
    "    print(f\"  Time: {elapsed:.6f} seconds\")\n",
    "\n",
    "# Compare results\n",
    "print(\"\\nResults comparison:\")\n",
    "for backend, result in results.items():\n",
    "    print(f\"{backend}: {result['distance']:.6f} in {result['time']:.6f}s\")"
   ]
  },
  {
   "cell_type": "markdown",
   "metadata": {},
   "source": [
    "### Batch Processing\n",
    "\n",
    "Now let's try batch processing with multiple time series."
   ]
  },
  {
   "cell_type": "code",
   "execution_count": null,
   "metadata": {},
   "outputs": [],
   "source": [
    "# Create batch data\n",
    "batch_size = 10\n",
    "AA = np.zeros((batch_size, 100, 1))\n",
    "TAA = np.tile(np.arange(100), (batch_size, 1))\n",
    "BB = np.zeros((batch_size, 80, 1))\n",
    "TBB = np.tile(np.arange(80), (batch_size, 1))\n",
    "\n",
    "# Fill with sine waves with different frequencies\n",
    "for i in range(batch_size):\n",
    "    freq = 1.0 + 0.2 * i\n",
    "    AA[i, :, 0] = np.sin(freq * np.linspace(0, 2*np.pi, 100)) + np.random.randn(100) * 0.1\n",
    "    BB[i, :, 0] = np.sin(freq * np.linspace(0, 2*np.pi, 80)) + np.random.randn(80) * 0.1\n",
    "\n",
    "# Plot some examples\n",
    "plt.figure(figsize=(12, 8))\n",
    "for i in range(min(4, batch_size)):\n",
    "    plt.subplot(2, 2, i+1)\n",
    "    plt.plot(TAA[i], AA[i, :, 0], label=f'A[{i}]')\n",
    "    plt.plot(TBB[i], BB[i, :, 0], label=f'B[{i}]')\n",
    "    plt.legend()\n",
    "    plt.title(f'Time Series Pair {i}')\n",
    "    plt.grid(True)\n",
    "plt.tight_layout()\n",
    "plt.show()"
   ]
  },
  {
   "cell_type": "markdown",
   "metadata": {},
   "source": [
    "Compute batch distances with different backends."
   ]
  },
  {
   "cell_type": "code",
   "execution_count": null,
   "metadata": {},
   "outputs": [],
   "source": [
    "batch_results = {}\n",
    "\n",
    "for backend in backends:\n",
    "    print(f\"Using {backend} backend for batch processing...\")\n",
    "    start_time = time.time()\n",
    "    distances = twed_batch(AA, TAA, BB, TBB, nu, lamb, degree, backend=backend)\n",
    "    elapsed = time.time() - start_time\n",
    "    batch_results[backend] = {'distances': distances, 'time': elapsed}\n",
    "    print(f\"  First distance: {distances[0, 0]:.6f}\")\n",
    "    print(f\"  Time: {elapsed:.6f} seconds\")\n",
    "\n",
    "# Compare results\n",
    "print(\"\\nBatch results comparison:\")\n",
    "for backend, result in batch_results.items():\n",
    "    print(f\"{backend}: {result['distances'][0, 0]:.6f} in {result['time']:.6f}s\")"
   ]
  },
  {
   "cell_type": "markdown",
   "metadata": {},
   "source": [
    "### Visualization of Distance Matrix\n",
    "\n",
    "Let's visualize the distance matrix from batch processing."
   ]
  },
  {
   "cell_type": "code",
   "execution_count": null,
   "metadata": {},
   "outputs": [],
   "source": [
    "# Use the fastest backend\n",
    "fastest_backend = min(batch_results.keys(), key=lambda k: batch_results[k]['time'])\n",
    "distance_matrix = batch_results[fastest_backend]['distances']\n",
    "\n",
    "plt.figure(figsize=(8, 6))\n",
    "plt.imshow(distance_matrix, cmap='viridis', interpolation='nearest')\n",
    "plt.colorbar(label='TWED Distance')\n",
    "plt.title(f'TWED Distance Matrix (using {fastest_backend} backend)')\n",
    "plt.xlabel('Time Series B Index')\n",
    "plt.ylabel('Time Series A Index')\n",
    "plt.show()"
   ]
  },
  {
   "cell_type": "markdown",
   "metadata": {},
   "source": [
    "## Performance Comparison\n",
    "\n",
    "Let's compare the performance of different backends with varying time series lengths."
   ]
  },
  {
   "cell_type": "code",
   "execution_count": null,
   "metadata": {},
   "outputs": [],
   "source": [
    "import numpy as np\n",
    "import time\n",
    "import matplotlib.pyplot as plt\n",
    "from cutwed import twed, set_backend, get_available_backends\n",
    "\n",
    "# Parameters\n",
    "lengths = [10, 50, 100, 200, 500, 1000]\n",
    "backends = get_available_backends()\n",
    "times = {backend: [] for backend in backends}\n",
    "\n",
    "# Run benchmark\n",
    "for length in lengths:\n",
    "    print(f\"\\nTesting with length: {length}\")\n",
    "    \n",
    "    # Create time series\n",
    "    A = np.random.randn(length, 3).astype(np.float32)\n",
    "    TA = np.arange(length, dtype=np.float32)\n",
    "    B = np.random.randn(length, 3).astype(np.float32)\n",
    "    TB = np.arange(length, dtype=np.float32)\n",
    "    \n",
    "    # Test each backend\n",
    "    for backend in backends:\n",
    "        print(f\"  Using {backend} backend...\")\n",
    "        start_time = time.time()\n",
    "        distance = twed(A, TA, B, TB, 1.0, 1.0, 2, backend=backend)\n",
    "        elapsed = time.time() - start_time\n",
    "        times[backend].append(elapsed)\n",
    "        print(f\"    Time: {elapsed:.6f} seconds\")\n",
    "\n",
    "# Plot results\n",
    "plt.figure(figsize=(10, 6))\n",
    "for backend in backends:\n",
    "    plt.plot(lengths, times[backend], marker='o', label=backend)\n",
    "plt.xlabel('Time Series Length')\n",
    "plt.ylabel('Computation Time (s)')\n",
    "plt.title('TWED Performance Comparison')\n",
    "plt.grid(True)\n",
    "plt.legend()\n",
    "plt.yscale('log')\n",
    "plt.xscale('log')\n",
    "plt.show()"
   ]
  },
  {
   "cell_type": "markdown",
   "metadata": {},
   "source": [
    "## Real-world Example: Classifying Time Series\n",
    "\n",
    "Let's demonstrate a practical application of TWED for time series classification using a nearest-neighbor approach."
   ]
  },
  {
   "cell_type": "code",
   "execution_count": null,
   "metadata": {},
   "outputs": [],
   "source": [
    "import numpy as np\n",
    "import matplotlib.pyplot as plt\n",
    "from sklearn.model_selection import train_test_split\n",
    "from sklearn.metrics import accuracy_score, confusion_matrix\n",
    "from sklearn.preprocessing import StandardScaler\n",
    "from cutwed import twed, set_backend\n",
    "\n",
    "# Generate synthetic data with 3 classes\n",
    "np.random.seed(42)\n",
    "n_samples = 150\n",
    "length = 100\n",
    "time = np.arange(length)\n",
    "\n",
    "# Class 1: Sine wave\n",
    "class1 = np.sin(2 * np.pi * time / length) + np.random.normal(0, 0.2, (n_samples//3, length))\n",
    "\n",
    "# Class 2: Square wave\n",
    "class2 = np.zeros((n_samples//3, length))\n",
    "for i in range(n_samples//3):\n",
    "    noise = np.random.normal(0, 0.2, length)\n",
    "    square = np.zeros(length)\n",
    "    square[length//4:3*length//4] = 1\n",
    "    class2[i] = square + noise\n",
    "\n",
    "# Class 3: Triangle wave\n",
    "class3 = np.zeros((n_samples//3, length))\n",
    "for i in range(n_samples//3):\n",
    "    noise = np.random.normal(0, 0.2, length)\n",
    "    triangle = np.zeros(length)\n",
    "    for j in range(length):\n",
    "        if j < length/2:\n",
    "            triangle[j] = 2 * j / length\n",
    "        else:\n",
    "            triangle[j] = 2 - 2 * j / length\n",
    "    class3[i] = triangle + noise\n",
    "\n",
    "# Combine data\n",
    "X = np.vstack([class1, class2, class3])\n",
    "y = np.array([0] * (n_samples//3) + [1] * (n_samples//3) + [2] * (n_samples//3))\n",
    "\n",
    "# Split into train and test sets\n",
    "X_train, X_test, y_train, y_test = train_test_split(X, y, test_size=0.3, random_state=42)\n",
    "\n",
    "# Standardize the data\n",
    "scaler = StandardScaler()\n",
    "X_train_scaled = scaler.fit_transform(X_train.T).T\n",
    "X_test_scaled = scaler.transform(X_test.T).T\n",
    "\n",
    "# Plot examples from each class\n",
    "plt.figure(figsize=(12, 4))\n",
    "for i, label in enumerate(['Sine', 'Square', 'Triangle']):\n",
    "    plt.subplot(1, 3, i+1)\n",
    "    plt.plot(time, X[y == i][0])\n",
    "    plt.title(f'Class {i}: {label}')\n",
    "    plt.grid(True)\n",
    "plt.tight_layout()\n",
    "plt.show()"
   ]
  },
  {
   "cell_type": "code",
   "execution_count": null,
   "metadata": {},
   "outputs": [],
   "source": [
    "# Classify using 1-nearest neighbor with TWED distance\n",
    "def classify_1nn(X_train, y_train, X_test, backend='numpy'):\n",
    "    TA = np.arange(length, dtype=np.float32)\n",
    "    y_pred = []\n",
    "    \n",
    "    for i, test_sample in enumerate(X_test):\n",
    "        print(f\"Classifying test sample {i+1}/{len(X_test)}\\r\", end=\"\")\n",
    "        TB = np.arange(length, dtype=np.float32)\n",
    "        \n",
    "        # Calculate distances to all training samples\n",
    "        distances = []\n",
    "        for train_sample in X_train:\n",
    "            dist = twed(train_sample.reshape(-1, 1), TA, test_sample.reshape(-1, 1), TB, \n",
    "                        nu=1.0, lamb=1.0, degree=2, backend=backend)\n",
    "            distances.append(dist)\n",
    "        \n",
    "        # Find nearest neighbor\n",
    "        nearest_idx = np.argmin(distances)\n",
    "        y_pred.append(y_train[nearest_idx])\n",
    "    \n",
    "    return np.array(y_pred)\n",
    "\n",
    "# Set the fastest backend for the classifier\n",
    "fastest_backend = min(times.keys(), key=lambda k: np.mean(times[k]))\n",
    "print(f\"Using {fastest_backend} backend for classification\")\n",
    "\n",
    "# Run classifier\n",
    "y_pred = classify_1nn(X_train_scaled, y_train, X_test_scaled, backend=fastest_backend)\n",
    "\n",
    "# Evaluate results\n",
    "accuracy = accuracy_score(y_test, y_pred)\n",
    "conf_matrix = confusion_matrix(y_test, y_pred)\n",
    "\n",
    "print(f\"\\nClassification accuracy: {accuracy:.2f}\")\n",
    "print(\"\\nConfusion Matrix:\")\n",
    "print(conf_matrix)"
   ]
  },
  {
   "cell_type": "markdown",
   "metadata": {},
   "source": [
    "## Conclusion\n",
    "\n",
    "In this notebook, we've demonstrated:\n",
    "\n",
    "1. How to use cuTWED with different backends (NumPy, PyTorch, JAX, CuPy, CUDA)\n",
    "2. Performance comparison between backends\n",
    "3. Batch processing of multiple time series\n",
    "4. A practical application of TWED for time series classification\n",
    "\n",
    "The refactored cuTWED library provides a unified interface to different implementations, allowing users to choose the best backend for their specific needs and hardware availability."
   ]
  }
 ],
 "metadata": {
  "kernelspec": {
   "display_name": "Python 3",
   "language": "python",
   "name": "python3"
  },
  "language_info": {
   "codemirror_mode": {
    "name": "ipython",
    "version": 3
   },
   "file_extension": ".py",
   "mimetype": "text/x-python",
   "name": "python",
   "nbconvert_exporter": "python",
   "pygments_lexer": "ipython3",
   "version": "3.8.10"
  }
 },
 "nbformat": 4,
 "nbformat_minor": 4
}